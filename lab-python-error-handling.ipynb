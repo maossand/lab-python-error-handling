{
 "cells": [
  {
   "cell_type": "markdown",
   "id": "25d7736c-ba17-4aff-b6bb-66eba20fbf4e",
   "metadata": {},
   "source": [
    "# Lab | Error Handling"
   ]
  },
  {
   "cell_type": "markdown",
   "id": "bc99b386-7508-47a0-bcdb-d969deaf6c8b",
   "metadata": {},
   "source": [
    "## Exercise: Error Handling for Managing Customer Orders\n",
    "\n",
    "The implementation of your code for managing customer orders assumes that the user will always enter a valid input. \n",
    "\n",
    "For example, we could modify the `initialize_inventory` function to include error handling.\n",
    "   - If the user enters an invalid quantity (e.g., a negative value or a non-numeric value), display an error message and ask them to re-enter the quantity for that product.\n",
    "   - Use a try-except block to handle the error and continue prompting the user until a valid quantity is entered.\n",
    "\n",
    "```python\n",
    "# Step 1: Define the function for initializing the inventory with error handling\n",
    "def initialize_inventory(products):\n",
    "    inventory = {}\n",
    "    for product in products:\n",
    "        valid_quantity = False\n",
    "        while not valid_quantity:\n",
    "            try:\n",
    "                quantity = int(input(f\"Enter the quantity of {product}s available: \"))\n",
    "                if quantity < 0:\n",
    "                    raise ValueError(\"Invalid quantity! Please enter a non-negative value.\")\n",
    "                valid_quantity = True\n",
    "            except ValueError as error:\n",
    "                print(f\"Error: {error}\")\n",
    "        inventory[product] = quantity\n",
    "    return inventory\n",
    "\n",
    "# Or, in another way:\n",
    "\n",
    "def initialize_inventory(products):\n",
    "    inventory = {}\n",
    "    for product in products:\n",
    "        valid_input = False\n",
    "        while not valid_input:\n",
    "            try:\n",
    "                quantity = int(input(f\"Enter the quantity of {product}s available: \"))\n",
    "                if quantity >= 0:\n",
    "                    inventory[product] = quantity\n",
    "                    valid_input = True\n",
    "                else:\n",
    "                    print(\"Quantity cannot be negative. Please enter a valid quantity.\")\n",
    "            except ValueError:\n",
    "                print(\"Invalid input. Please enter a valid quantity.\")\n",
    "    return inventory\n",
    "```\n",
    "\n",
    "Let's enhance your code by implementing error handling to handle invalid inputs.\n",
    "\n",
    "Follow the steps below to complete the exercise:\n",
    "\n",
    "2. Modify the `calculate_total_price` function to include error handling.\n",
    "   - If the user enters an invalid price (e.g., a negative value or a non-numeric value), display an error message and ask them to re-enter the price for that product.\n",
    "   - Use a try-except block to handle the error and continue prompting the user until a valid price is entered.\n",
    "\n",
    "3. Modify the `get_customer_orders` function to include error handling.\n",
    "   - If the user enters an invalid number of orders (e.g., a negative value or a non-numeric value), display an error message and ask them to re-enter the number of orders.\n",
    "   - If the user enters an invalid product name (e.g., a product name that is not in the inventory), or that doesn't have stock available, display an error message and ask them to re-enter the product name. *Hint: you will need to pass inventory as a parameter*\n",
    "   - Use a try-except block to handle the error and continue prompting the user until a valid product name is entered.\n",
    "\n",
    "4. Test your code by running the program and deliberately entering invalid quantities and product names. Make sure the error handling mechanism works as expected.\n"
   ]
  },
  {
   "cell_type": "code",
   "execution_count": 6,
   "id": "466a4bd7",
   "metadata": {},
   "outputs": [
    {
     "name": "stdout",
     "output_type": "stream",
     "text": [
      "Invalid input. Please enter a valid quantity.\n",
      "Invalid input. Please enter a valid quantity.\n",
      "Quantity cannot be negative. Please enter a valid quantity.\n",
      "Invalid input. Please enter a valid quantity.\n",
      "Invalid input. Please enter a valid quantity.\n",
      "Invalid input. Please enter a valid quantity.\n",
      "Quantity cannot be negative. Please enter a valid quantity.\n",
      "9\n"
     ]
    }
   ],
   "source": [
    "# 2. Modify the `calculate_total_price` function to include error handling.\n",
    "#    - If the user enters an invalid price (e.g., a negative value or a non-numeric value), display an error message and ask them to re-enter the price for that product.\n",
    "#    - Use a try-except block to handle the error and continue prompting the user until a valid price is entered.\n",
    "\n",
    "customer_orders = [\"t-shirt\", \"hat\"]\n",
    "\n",
    "def total_price(order):\n",
    "    product_price = 0\n",
    "    for i in customer_orders:\n",
    "        valid_input = False\n",
    "        while not valid_input:\n",
    "            try:\n",
    "                product_price += int(input(f\"Enter the price of {i}: \"))\n",
    "                if product_price >= 0:\n",
    "                    valid_input = True\n",
    "                else:\n",
    "                     print(\"Quantity cannot be negative. Please enter a valid quantity.\")\n",
    "            except ValueError:\n",
    "                print(\"Invalid input. Please enter a valid quantity.\")                   \n",
    "    return product_price\n",
    "\n",
    "test = total_price(customer_orders)\n",
    "print(test)"
   ]
  },
  {
   "cell_type": "code",
   "execution_count": 11,
   "id": "e335bbb6",
   "metadata": {},
   "outputs": [
    {
     "name": "stdout",
     "output_type": "stream",
     "text": [
      "Please enter a positive integer\n",
      "Please enter a positive integer\n",
      "The number of customer orders must be higher than zero\n",
      "The number of customer orders must be higher than zero\n",
      "That is not a valid product. Valid products are \"t-shirt\", \"mug\", \"hat\", \"book\", \"keychain\".\n"
     ]
    },
    {
     "data": {
      "text/plain": [
       "['hat', 'hat', 'hat']"
      ]
     },
     "execution_count": 11,
     "metadata": {},
     "output_type": "execute_result"
    }
   ],
   "source": [
    "# 3. Modify the `get_customer_orders` function to include error handling.\n",
    "#    - If the user enters an invalid number of orders (e.g., a negative value or a non-numeric value), display an error message and ask them to re-enter the number of orders.\n",
    "#    - If the user enters an invalid product name (e.g., a product name that is not in the inventory), or that doesn't have stock available, display an error message and ask them to re-enter the product name. *Hint: you will need to pass inventory as a parameter*\n",
    "#    - Use a try-except block to handle the error and continue prompting the user until a valid product name is entered.\n",
    "\n",
    "def get_customer_orders():\n",
    "    products = [\"t-shirt\", \"mug\", \"hat\", \"book\", \"keychain\"]\n",
    "    products_list = []\n",
    "    valid_input = False\n",
    "    while not valid_input:\n",
    "        try:\n",
    "            num_orders = int(input(\"Enter the number of customer orders: \"))\n",
    "            if num_orders > 0:\n",
    "                valid_input = True\n",
    "            else:\n",
    "                print(\"The number of customer orders must be higher than zero.\")\n",
    "        except ValueError:\n",
    "            print(\"Please enter a positive integer\")\n",
    "    for i in range(min(num_orders, 5)):\n",
    "        valid_input = False\n",
    "        while not valid_input:\n",
    "            try:\n",
    "                product = input(f\"Enter product name for order {i + 1}: \")\n",
    "                if product in products:\n",
    "                    products_list.append(product)\n",
    "                    valid_input = True\n",
    "                else:\n",
    "                    print('That is not a valid product. Valid products are \"t-shirt\", \"mug\", \"hat\", \"book\", \"keychain\".')\n",
    "            except ValueError:\n",
    "                print('That is not a valid product. Valid products are \"t-shirt\", \"mug\", \"hat\", \"book\", \"keychain\".')\n",
    "    return products_list\n",
    "\n",
    "get_customer_orders()"
   ]
  },
  {
   "cell_type": "code",
   "execution_count": null,
   "id": "aa367a5f",
   "metadata": {},
   "outputs": [],
   "source": [
    "# 4. Test your code by running the program and deliberately entering invalid quantities and product names. \n",
    "# Make sure the error handling mechanism works as expected.\n",
    "\n",
    "#DONE"
   ]
  }
 ],
 "metadata": {
  "kernelspec": {
   "display_name": "Python 3 (ipykernel)",
   "language": "python",
   "name": "python3"
  },
  "language_info": {
   "codemirror_mode": {
    "name": "ipython",
    "version": 3
   },
   "file_extension": ".py",
   "mimetype": "text/x-python",
   "name": "python",
   "nbconvert_exporter": "python",
   "pygments_lexer": "ipython3",
   "version": "3.9.6"
  }
 },
 "nbformat": 4,
 "nbformat_minor": 5
}
